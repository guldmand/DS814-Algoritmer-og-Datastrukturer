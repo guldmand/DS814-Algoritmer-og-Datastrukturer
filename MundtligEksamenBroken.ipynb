{
 "cells": [
  {
   "cell_type": "markdown",
   "id": "3528fcbe",
   "metadata": {},
   "source": [
    "# 📘 Algoritmer og Datastrukturer – Mundtligt Eksamensforberedelse\n",
    "> **Fag**: DM507 / DM578 / DS814 – Algoritmer og Datastrukturer, https://imada.sdu.dk/u/rolf/Edu/DM507/F25/  \n",
    "> **Forfatter**: _Jannik Busse Guldmand_  \n",
    "> **Format**: Jupyter Notebook (Markdown + LaTex + Python)  \n",
    "> **Sidst opdateret**: 2025-08-08"
   ]
  },
  {
   "cell_type": "markdown",
   "id": "c0665968",
   "metadata": {},
   "source": [
    "## 🧭 Indholdsfortegnelse\n",
    "\n",
    "1. [Divide-and-conquer algoritmer](#1-divide-and-conquer-algoritmer)  \n",
    "&nbsp;&nbsp;&nbsp;&nbsp;1.1 [Divide-and-conquer algoritmer Overblik](#1-divide-and-conquer-algoritmer-overblik)  \n",
    "&nbsp;&nbsp;&nbsp;&nbsp;1.2 [Divide-and-conquer algoritmer Teori](#1-divide-and-conquer-algoritmer-teori)  \n",
    "&nbsp;&nbsp;&nbsp;&nbsp;1.3 [Divide-and-conquer algoritmer Eksempler](#1-divide-and-conquer-algoritmer-eksempler)  \n",
    "&nbsp;&nbsp;&nbsp;&nbsp;1.4 [Divide-and-conquer algoritmer opgaver fra undervisningen](#1-divide-and-conquer-algoritmer-opgaver-fra-timen)  \n",
    "&nbsp;&nbsp;&nbsp;&nbsp;1.5 [Divide-and-conquer algoritmer eksamensopgaver](#1-divide-and-conquer-algoritmer-eksamensopgaver)\n",
    "\n",
    "2. [Sorteringsalgoritmer](#2-sorteringsalgoritmer)  \n",
    "&nbsp;&nbsp;&nbsp;&nbsp;2.1 [Sorteringsalgoritmer Overblik](#2-sorteringsalgoritmer-overblik)  \n",
    "&nbsp;&nbsp;&nbsp;&nbsp;2.2 [Sorteringsalgoritmer Teori](#2-sorteringsalgoritmer-teori)  \n",
    "&nbsp;&nbsp;&nbsp;&nbsp;2.3 [Sorteringsalgoritmer Eksempler](#2-sorteringsalgoritmer-eksempler)  \n",
    "&nbsp;&nbsp;&nbsp;&nbsp;2.4 [Sorteringsalgoritmer opgaver fra undervisningen](#2-sorteringsalgoritmer-opgaver)  \n",
    "&nbsp;&nbsp;&nbsp;&nbsp;2.5 [Sorteringsalgoritmer eksamensopgaver](#2-sorteringsalgoritmer-eksamensopgaver)\n",
    "\n",
    "3. [Prioritetskøer](#3-prioritetskoeer)  \n",
    "&nbsp;&nbsp;&nbsp;&nbsp;3.1 [Prioritetskøer Overblik](#3-prioritetskøer-overblik)  \n",
    "&nbsp;&nbsp;&nbsp;&nbsp;3.2 [Prioritetskøer Teori](#3-prioritetskøer-teori)  \n",
    "&nbsp;&nbsp;&nbsp;&nbsp;3.3 [Prioritetskøer Eksempler](#3-prioritetskøer-eksempler)  \n",
    "&nbsp;&nbsp;&nbsp;&nbsp;3.4 [Prioritetskøer opgaver fra undervisningen](#3-prioritetskøer-opgaver)  \n",
    "&nbsp;&nbsp;&nbsp;&nbsp;3.5 [Prioritetskøer eksamensopgaver](#3-prioritetskøer-eksamensopgaver)\n",
    "\n",
    "4. [Søgetræer](#4-søgetræer)  \n",
    "&nbsp;&nbsp;&nbsp;&nbsp;4.1 [Søgetræer Overblik](#4-søgetræer-overblik)  \n",
    "&nbsp;&nbsp;&nbsp;&nbsp;4.2 [Søgetræer Teori](#4-søgetræer-teori)  \n",
    "&nbsp;&nbsp;&nbsp;&nbsp;4.3 [Søgetræer Eksempler](#4-søgetræer-eksempler)  \n",
    "&nbsp;&nbsp;&nbsp;&nbsp;4.4 [Søgetræer opgaver fra undervisningen](#4-søgetræer-opgaver)  \n",
    "&nbsp;&nbsp;&nbsp;&nbsp;4.5 [Søgetræer eksamensopgaver](#4-søgetræer-eksamensopgaver)\n",
    "\n",
    "5. [Dynamisk programmering](#5-dynamisk-programmering)  \n",
    "&nbsp;&nbsp;&nbsp;&nbsp;5.1 [Dynamisk programmering Overblik](#5-dynamisk-programmering-overblik)  \n",
    "&nbsp;&nbsp;&nbsp;&nbsp;5.2 [Dynamisk programmering Teori](#5-dynamisk-programmering-teori)  \n",
    "&nbsp;&nbsp;&nbsp;&nbsp;5.3 [Dynamisk programmering Eksempler](#5-dynamisk-programmering-eksempler)  \n",
    "&nbsp;&nbsp;&nbsp;&nbsp;5.4 [Dynamisk programmering opgaver fra undervisningen](#5-dynamisk-programmering-opgaver)  \n",
    "&nbsp;&nbsp;&nbsp;&nbsp;5.5 [Dynamisk programmering eksamensopgaver](#5-dynamisk-programmering-eksamensopgaver)\n",
    "\n",
    "6. [Grådige algoritmer](#6-grådige-algoritmer)  \n",
    "&nbsp;&nbsp;&nbsp;&nbsp;6.1 [Grådige algoritmer Overblik](#6-grådige-algoritmer-overblik)  \n",
    "&nbsp;&nbsp;&nbsp;&nbsp;6.2 [Grådige algoritmer Teori](#6-grådige-algoritmer-teori)  \n",
    "&nbsp;&nbsp;&nbsp;&nbsp;6.3 [Grådige algoritmer Eksempler](#6-grådige-algoritmer-eksempler)  \n",
    "&nbsp;&nbsp;&nbsp;&nbsp;6.4 [Grådige algoritmer opgaver fra undervisningen](#6-grådige-algoritmer-opgaver)  \n",
    "&nbsp;&nbsp;&nbsp;&nbsp;6.5 [Grådige algoritmer eksamensopgaver](#6-grådige-algoritmer-eksamensopgaver)\n",
    "\n",
    "7. [BFS, DFS og deres anvendelser](#7-bfs-dfs)  \n",
    "&nbsp;&nbsp;&nbsp;&nbsp;7.1 [BFS, DFS og deres anvendelser Overblik](#7-bfs-dfs-overblik)  \n",
    "&nbsp;&nbsp;&nbsp;&nbsp;7.2 [BFS, DFS og deres anvendelser Teori](#7-bfs-dfs-teori)  \n",
    "&nbsp;&nbsp;&nbsp;&nbsp;7.3 [BFS, DFS og deres anvendelser Eksempler](#7-bfs-dfs-eksempler)  \n",
    "&nbsp;&nbsp;&nbsp;&nbsp;7.4 [BFS, DFS og deres anvendelser opgaver fra undervisningen](#7-bfs-dfs-opgaver)  \n",
    "&nbsp;&nbsp;&nbsp;&nbsp;7.5 [BFS, DFS og deres anvendelser eksamensopgaver](#7-bfs-dfs-eksamensopgaver)\n",
    "\n",
    "8. [Letteste udspændende træer (MST)](#8-mst)  \n",
    "&nbsp;&nbsp;&nbsp;&nbsp;8.1 [Letteste udspændende træer Overblik](#8-mst-overblik)  \n",
    "&nbsp;&nbsp;&nbsp;&nbsp;8.2 [Letteste udspændende træer Teori](#8-mst-teori)  \n",
    "&nbsp;&nbsp;&nbsp;&nbsp;8.3 [Letteste udspændende træer Eksempler](#8-mst-eksempler)  \n",
    "&nbsp;&nbsp;&nbsp;&nbsp;8.4 [Letteste udspændende træer opgaver fra undervisningen](#8-mst-opgaver)  \n",
    "&nbsp;&nbsp;&nbsp;&nbsp;8.5 [Letteste udspændende træer eksamensopgaver](#8-mst-eksamensopgaver)\n",
    "\n",
    "9. [Korteste veje](#9-korteste-veje)  \n",
    "&nbsp;&nbsp;&nbsp;&nbsp;9.1 [Korteste veje Overblik](#9-korteste-veje-overblik)  \n",
    "&nbsp;&nbsp;&nbsp;&nbsp;9.2 [Korteste veje Teori](#9-korteste-veje-teori)  \n",
    "&nbsp;&nbsp;&nbsp;&nbsp;9.3 [Korteste veje Eksempler](#9-korteste-veje-eksempler)  \n",
    "&nbsp;&nbsp;&nbsp;&nbsp;9.4 [Korteste veje opgaver fra undervisningen](#9-korteste-veje-opgaver)  \n",
    "&nbsp;&nbsp;&nbsp;&nbsp;9.5 [Korteste veje eksamensopgaver](#9-korteste-veje-eksamensopgaver)\n",
    "\n"
   ]
  },
  {
   "cell_type": "markdown",
   "id": "e15cd541",
   "metadata": {},
   "source": [
    "<hr>\n",
    "\n",
    "## 1. Divide-and-conquer algoritmer\n",
    "\n",
    "### 1.1 Divide-and-conquer algoritmer: 🌎 Overblik<a id=\"1-divide-and-conquer-algoritmer-overblik\"></a>\n",
    "Divide-and-conquer opdeler et problem i mindre delproblemer, løser dem rekursivt og kombinerer resultaterne.\n",
    "\n",
    "### 1.2 Divide-and-conquer algoritmer: 📘 Teori <a id=\"1-divide-and-conquer-algoritmer-teori\"></a>\n",
    "### 1.3 Divide-and-conquer algoritmer: Eksempler <a id=\"1-divide-and-conquer-algoritmer-eksempler\"></a>\n",
    "\n",
    "- Klassisk eksempel: Merge Sort, Binary Search, Karatsuba\n",
    "- Typisk rekursionsform:  \n",
    "  $$\n",
    "  T(n) = aT(n/b) + f(n)\n",
    "  $$\n",
    "  Løsning via Master Theorem\n",
    "\n",
    "### ⚙️ Underalgoritmer\n",
    "\n",
    "\n",
    "\n",
    "\n",
    "\n"
   ]
  },
  {
   "cell_type": "markdown",
   "id": "989af27a",
   "metadata": {},
   "source": [
    "\n",
    "### 1.4 Divide-and-conquer algoritmer: 📚 Opgaver fra undervisningen <a id=\"1-divide-and-conquer-algoritmer-opgaver-fra-timen\"></a>\n",
    "- Analyser rekursion: \\( T(n) = 2T(n/2) + n \\)\n",
    "- Bevis korrekthed af merge sort vha. loop-invariant"
   ]
  },
  {
   "cell_type": "markdown",
   "id": "6e3eea8e",
   "metadata": {},
   "source": [
    "### 1.5 Divide-and-conquer algoritmer: Eksamensopgaver <a id=\"1-divide-and-conquer-algoritmer-eksamensopgaver\"></a>\n",
    "- Eksamen 2023, opgave 3: Analyse af rekursionsligning\n",
    "\n",
    "\n",
    "<hr>"
   ]
  },
  {
   "cell_type": "markdown",
   "id": "2029f0f3",
   "metadata": {},
   "source": [
    "## 2. Sorteringsalgoritmer\n",
    "\n",
    "\n",
    "### 2.2 Overblik <a id=\"2-sorteringsalgoritmer-overblik\"></a>\n",
    "Sorter n elementer effektivt vha. forskellige algoritmer med forskellige egenskaber (stabilitet, worst-case, etc.)\n",
    "\n",
    "\n",
    "\n",
    "### 2.2 Teori <a id=\"2-sorteringsalgoritmer-teori\"></a>\n",
    "| Algoritme     | Best Case      | Worst Case     | Stabil |\n",
    "|---------------|----------------|----------------|--------|\n",
    "| InsertionSort | Θ(n)           | Θ(n²)          | Ja     |\n",
    "| MergeSort     | Θ(n log n)     | Θ(n log n)     | Ja     |\n",
    "| QuickSort     | Θ(n log n)     | Θ(n²)          | Nej    |\n",
    "| CountingSort  | Θ(n + k)       | Θ(n + k)       | Ja     |\n",
    "| RadixSort     | Θ(d(n + k))    | Θ(d(n + k))    | Ja     |\n",
    "\n",
    "### ⚙️ Underalgoritmer\n",
    "\n",
    "#### 🔹 Insertion Sort (Pseudokode)"
   ]
  },
  {
   "cell_type": "code",
   "execution_count": null,
   "id": "0aeb2b24",
   "metadata": {},
   "outputs": [],
   "source": [
    "# INSERTION-SORT (A, n)\n",
    "#    for j = 2 to n\n",
    "#        key = A[j]\n",
    "#        // Insert A[/] into the sorted sequence A[1 .. j - 1].\n",
    "#        i = j-1\n",
    "#        while i > 0 and A[i] > key\n",
    "#            A[i + 1] = A[i]\n",
    "#            i = 1-1\n",
    "#        A[i+ 1] = key"
   ]
  },
  {
   "cell_type": "markdown",
   "id": "4e7722e7",
   "metadata": {},
   "source": [
    "#### 🔹 Insertion Sort (Implementation)\n",
    "Converting the pseudocode from the book to Python. The book uses 1-based indexing, but Python uses 0-based indexing."
   ]
  },
  {
   "cell_type": "code",
   "execution_count": 5,
   "id": "63ea9b58",
   "metadata": {},
   "outputs": [
    {
     "name": "stdout",
     "output_type": "stream",
     "text": [
      "Original array: [64, 34, 25, 12, 22, 11, 90]\n",
      "Sorted array:   [11, 12, 22, 25, 34, 64, 90]\n"
     ]
    }
   ],
   "source": [
    "def insertion_sort(A, n):\n",
    "    for j in range(1, n):\n",
    "        key = A[j]\n",
    "        i = j - 1\n",
    "        \n",
    "        while i >= 0 and A[i] > key:\n",
    "            A[i + 1] = A[i]\n",
    "            i = i - 1\n",
    "\n",
    "        A[i + 1] = key\n",
    "\n",
    "    return A\n",
    "\n",
    "# Test the function\n",
    "test_array = [64, 34, 25, 12, 22, 11, 90]\n",
    "print(\"Original array:\", test_array)\n",
    "\n",
    "# Make a copy to sort (to preserve original for comparison)\n",
    "sorted_array = insertion_sort(test_array.copy(), len(test_array))\n",
    "print(\"Sorted array:  \", sorted_array)"
   ]
  },
  {
   "cell_type": "code",
   "execution_count": null,
   "id": "02c93b1a",
   "metadata": {},
   "outputs": [],
   "source": [
    "### MergeSort"
   ]
  },
  {
   "cell_type": "code",
   "execution_count": null,
   "id": "a5b4bb7a",
   "metadata": {},
   "outputs": [],
   "source": [
    "def merge_sort(arr):\n",
    "    if len(arr) <= 1:\n",
    "        return arr\n",
    "    mid = len(arr) // 2\n",
    "    left = merge_sort(arr[:mid])\n",
    "    right = merge_sort(arr[mid:])\n",
    "    return merge(left, right)\n",
    "\n",
    "def merge(left, right):\n",
    "    result = []\n",
    "    i = j = 0\n",
    "    while i < len(left) and j < len(right):\n",
    "        if left[i] < right[j]:\n",
    "            result.append(left[i])\n",
    "            i += 1\n",
    "        else:\n",
    "            result.append(right[j])\n",
    "            j += 1\n",
    "    return result + left[i:] + right[j:]"
   ]
  },
  {
   "cell_type": "markdown",
   "id": "c9805a34",
   "metadata": {},
   "source": [
    "\n",
    "### 2.3 Sorteringsalgoritmer: Eksempler <a id=\"2-sorteringsalgoritmer-eksempler\"></a>\n",
    "Lorem ipsum dolor sit amet, consectetur adipiscing elit. Aliquam pulvinar leo a sapien commodo, sed vestibulum risus facilisis. Aliquam erat volutpat. Integer ac orci metus. Pellentesque ornare erat eu arcu condimentum, eu malesuada urna tincidunt. Sed gravida nisl vel leo imperdiet cursus. Nullam fermentum, ipsum a pellentesque fringilla, diam dui porttitor elit, quis tempus odio eros a dolor. Nullam vitae odio aliquet, pellentesque magna ac, tempor ipsum. Curabitur quis porta diam, id imperdiet purus. Ut ornare in magna porta pulvinar. Nam tempor risus  sed nunc pharetra, in elementum lorem posuere. Etiam fermentum, diam at aliquam facilisis, massa justo pharetra velit, ac tincidunt ante justo at diam. Mauris finibus risus quis ornare gravida. Vivamus pellentesque dictum eleifend. Nullam pretium condimentum turpis eu rhoncus. Suspendisse potenti. Nam mollis laoreet lorem et iaculis.\n",
    "\n",
    "\n",
    "### 2.4 Sorteringsalgoritmer: 📚 Opgaver fra undervisningen <a id=\"2-sorteringsalgoritmer-opgaver\"></a>\n",
    "- Sammenlign InsertionSort og MergeSort\n",
    "- Vis hvordan QuickSort fejler på sorteret input\n",
    "\n",
    "### 2.4 Sorteringsalgoritmer: 📚 Eksamensopgaver <a id=\"2-sorteringsalgoritmer-eksamensopgaver\"></a>\n",
    "- Eksamen 2022, opgave 4: Counting Sort\n",
    "\n",
    "\n",
    "\n",
    "\n",
    "\n",
    "\n",
    "\n",
    "\n",
    "\n",
    "\n",
    "\n",
    "\n",
    "\n",
    "\n",
    "\n",
    "\n",
    "\n",
    "\n",
    "---"
   ]
  },
  {
   "cell_type": "markdown",
   "id": "75585693",
   "metadata": {},
   "source": [
    "## 3. Prioritetskøer <a id=\"3-prioritetskoeer\"></a>\n",
    "\n",
    "\n",
    "### 📌 Overblik over emnet\n",
    "Prioritetskøer implementeres ofte vha. heaps, og bruges i fx heapsort, Dijkstra og Prim.\n",
    "\n",
    "### 📘 Teori\n",
    "- Max-Heap egenskab: \\( A[\\text{parent}(i)] \\geq A[i] \\)\n",
    "- Operationer: Insert, Extract-Max, Increase-Key\n",
    "\n",
    "### ⚙️ Underalgoritmer\n",
    "\n",
    "#### 🔹 Build-Max-Heap\n",
    "\n",
    "**Python-kode:** (pseudo-ish)"
   ]
  },
  {
   "cell_type": "code",
   "execution_count": 3,
   "id": "ecd0a1ef",
   "metadata": {},
   "outputs": [],
   "source": [
    "def max_heapify(A, i, n):\n",
    "    l = 2*i + 1\n",
    "    r = 2*i + 2\n",
    "    largest = i\n",
    "    if l < n and A[l] > A[i]:\n",
    "        largest = l\n",
    "    if r < n and A[r] > A[largest]:\n",
    "        largest = r\n",
    "    if largest != i:\n",
    "        A[i], A[largest] = A[largest], A[i]\n",
    "        max_heapify(A, largest, n)"
   ]
  },
  {
   "cell_type": "markdown",
   "id": "0a977293",
   "metadata": {},
   "source": [
    "#### 📚 Opgaver fra undervisningen\n",
    "- Insert og Extract-Max trin-for-trin\n",
    "- Heapify trace\n",
    "\n",
    "#### 🧪 Eksamenstræning\n",
    "- Eksamen 2023, opgave 1: Prioritetskø og heap\n",
    "\n",
    "---"
   ]
  },
  {
   "cell_type": "markdown",
   "id": "856c4531",
   "metadata": {},
   "source": [
    "## 4.Søgetræer\n",
    "\n",
    "🌳\n",
    "\n",
    "### 📌 Overblik over emnet\n",
    "Binære søgetræer, AVL og Red-Black Trees\n",
    "\n",
    "### 📘 Teori\n",
    "- BST-invariant: Venstre < Rod < Højre\n",
    "- Inorder traversal = sorteret output\n",
    "- Rød-sorte træer: O(log n) balance\n",
    "\n",
    "### ⚙️ Underalgoritmer\n",
    "\n",
    "#### 🔹 BST Insert og Delete\n",
    "- Inorder efter sletning\n",
    "- Successor og predecessor\n",
    "\n",
    "#### 📚 Opgaver fra undervisningen\n",
    "- Byg træ med givne nøgler\n",
    "- Trace af delete(5)\n",
    "\n",
    "#### 🧪 Eksamenstræning\n",
    "- Eksamen 2023, opgave 5: BST-traversal\n",
    "\n",
    "---"
   ]
  },
  {
   "cell_type": "markdown",
   "id": "470fc43c",
   "metadata": {},
   "source": [
    "## 5.Dynamisk programmering\n",
    "\n",
    "🎯\n",
    "\n",
    "### 📌 Overblik over emnet\n",
    "Optimeringsproblemer med overlappende delproblemer og optimal delstruktur.\n",
    "\n",
    "### 📘 Teori\n",
    "- Memoization (top-down) vs. Tabulation (bottom-up)\n",
    "- Typiske problemer: Rod cutting, LCS, Knapsack\n",
    "\n",
    "### ⚙️ Underalgoritmer\n",
    "\n",
    "#### 🔹 Longest Common Subsequence (LCS)\n",
    "\n",
    "**Python-kode (tabulation):**"
   ]
  },
  {
   "cell_type": "code",
   "execution_count": 4,
   "id": "1b302e11",
   "metadata": {},
   "outputs": [],
   "source": [
    "def lcs(X, Y):\n",
    "    m, n = len(X), len(Y)\n",
    "    dp = [[0]*(n+1) for _ in range(m+1)]\n",
    "    for i in range(m):\n",
    "        for j in range(n):\n",
    "            if X[i] == Y[j]:\n",
    "                dp[i+1][j+1] = dp[i][j] + 1\n",
    "            else:\n",
    "                dp[i+1][j+1] = max(dp[i][j+1], dp[i+1][j])\n",
    "    return dp[m][n]"
   ]
  },
  {
   "cell_type": "markdown",
   "id": "fdd210f9",
   "metadata": {},
   "source": [
    "#### 📚 Opgaver fra undervisningen\n",
    "- Rod Cutting med pris-tabeller\n",
    "- LCS mellem to strenge\n",
    "\n",
    "#### 🧪 Eksamenstræning\n",
    "- Eksamen 2022, opgave 6: Knapsack\n",
    "\n",
    "\n",
    "\n",
    "---"
   ]
  },
  {
   "cell_type": "markdown",
   "id": "a5a1e67d",
   "metadata": {},
   "source": [
    "## 6. 💰 Grådige algoritmer <a name=\"grådige-algoritmer\"></a>\n",
    "\n",
    "### 📌 Overblik over emnet\n",
    "Træffer lokale optimale valg for at finde globalt optimum.\n",
    "\n",
    "### 📘 Teori\n",
    "- Aktivitetssortering\n",
    "- Huffman-kodning\n",
    "- Grådig MST og korteste veje\n",
    "\n",
    "### ⚙️ Underalgoritmer\n",
    "\n",
    "#### 🔹 Huffman\n",
    "\n",
    "- Bygger optimal præfiksfri kode\n",
    "\n",
    "#### 📚 Opgaver fra undervisningen\n",
    "- Byg Huffman-træ fra symboler\n",
    "- Analysér grådighedskriterier\n",
    "\n",
    "#### 🧪 Eksamenstræning\n",
    "- Eksamen 2023, opgave 4: Huffman træ\n",
    "\n",
    "---"
   ]
  },
  {
   "cell_type": "markdown",
   "id": "53e82c23",
   "metadata": {},
   "source": [
    "## 7. 🔍 BFS, DFS og deres anvendelser <a name=\"bfs-dfs\"></a>\n",
    "\n",
    "### 📌 Overblik over emnet\n",
    "Træbaserede gennemløb, topologisk sortering, komponenter\n",
    "\n",
    "### 📘 Teori\n",
    "- BFS: Lagvis søgning (O(V+E))\n",
    "- DFS: Tidspunkter, cykler, top sort\n",
    "\n",
    "### ⚙️ Underalgoritmer\n",
    "\n",
    "#### 🔹 DFS med d- og f-tider\n",
    "\n",
    "**Python:**"
   ]
  },
  {
   "cell_type": "code",
   "execution_count": 5,
   "id": "115812d6",
   "metadata": {},
   "outputs": [],
   "source": [
    "def dfs(G, v, visited=None):\n",
    "    if visited is None:\n",
    "        visited = set()\n",
    "    visited.add(v)\n",
    "    for u in G[v]:\n",
    "        if u not in visited:\n",
    "            dfs(G, u, visited)\n",
    "    return visited"
   ]
  },
  {
   "cell_type": "markdown",
   "id": "62eb1c6f",
   "metadata": {},
   "source": [
    "\n",
    "#### 📚 Opgaver fra undervisningen\n",
    "- Find d- og f-tider\n",
    "- Opdel grafer i SCC\n",
    "\n",
    "#### 🧪 Eksamenstræning\n",
    "- Eksamen 2023, opgave 6: DFS og SCC\n",
    "\n",
    "---"
   ]
  },
  {
   "cell_type": "markdown",
   "id": "3f1354df",
   "metadata": {},
   "source": [
    "## 8. 🌉 Letteste udspændende træer (MST) <a name=\"mst\"></a>\n",
    "\n",
    "### 📌 Overblik over emnet\n",
    "Find billigste træ der forbinder alle noder\n",
    "\n",
    "### 📘 Teori\n",
    "- Prim-Jarník: Grådig, udvider træ\n",
    "- Kruskal: Sortér kanter + Union-Find\n",
    "\n",
    "### ⚙️ Underalgoritmer\n",
    "\n",
    "#### 🔹 Kruskal's algoritme med disjoint sets\n",
    "\n",
    "#### 📚 Opgaver fra undervisningen\n",
    "- MST med Prim og Kruskal\n",
    "- Analyse af snit-egenskab\n",
    "\n",
    "#### 🧪 Eksamenstræning\n",
    "- Eksamen 2022, opgave 7: MST og vægte\n",
    "\n",
    "---"
   ]
  },
  {
   "cell_type": "markdown",
   "id": "189639db",
   "metadata": {},
   "source": [
    "## 9. 🛣️ Korteste veje <a name=\"korteste-veje\"></a>\n",
    "\n",
    "### 📌 Overblik over emnet\n",
    "Find korteste sti fra én (eller alle) til andre noder\n",
    "\n",
    "### 📘 Teori\n",
    "- Dijkstra: Ingen negative vægte\n",
    "- Bellman-Ford: Negative tilladt\n",
    "- Floyd-Warshall: All-pairs\n",
    "\n",
    "### ⚙️ Underalgoritmer\n",
    "\n",
    "#### 🔹 Dijkstra med prioritetskø\n",
    "\n",
    "#### 📚 Opgaver fra undervisningen\n",
    "- Trace af Dijkstra og Bellman-Ford\n",
    "- Vis forskel på topologisk sortering vs. BFS\n",
    "\n",
    "#### 🧪 Eksamenstræning\n",
    "- Eksamen 2023, opgave 8: Dijkstra og grafanalyse\n",
    "\n",
    "---"
   ]
  },
  {
   "cell_type": "markdown",
   "id": "7917a1bf",
   "metadata": {},
   "source": []
  },
  {
   "cell_type": "markdown",
   "id": "c0d231b6",
   "metadata": {},
   "source": [
    "## Insertion Sort Implementation\n",
    "\n",
    "Converting the pseudocode from the book to Python. The book uses 1-based indexing, but Python uses 0-based indexing."
   ]
  },
  {
   "cell_type": "code",
   "execution_count": 1,
   "id": "bd33a425",
   "metadata": {},
   "outputs": [
    {
     "name": "stdout",
     "output_type": "stream",
     "text": [
      "Original array: [64, 34, 25, 12, 22, 11, 90]\n",
      "Sorted array:   [11, 12, 22, 25, 34, 64, 90]\n"
     ]
    }
   ],
   "source": []
  },
  {
   "cell_type": "code",
   "execution_count": 2,
   "id": "756a39fd",
   "metadata": {},
   "outputs": [
    {
     "name": "stdout",
     "output_type": "stream",
     "text": [
      "\n",
      "--- Additional Test Cases ---\n",
      "Empty array: []\n",
      "Single element: [42]\n",
      "Already sorted: [1, 2, 3, 4, 5]\n",
      "Reverse sorted: [1, 2, 3, 4, 5]\n",
      "With duplicates: [1, 1, 2, 3, 4, 5, 5, 6, 9]\n"
     ]
    }
   ],
   "source": [
    "# Additional test cases to verify the implementation\n",
    "\n",
    "# Test with edge cases\n",
    "print(\"\\n--- Additional Test Cases ---\")\n",
    "\n",
    "# Empty array\n",
    "empty_array = []\n",
    "print(\"Empty array:\", insertion_sort(empty_array.copy()))\n",
    "\n",
    "# Single element\n",
    "single_element = [42]\n",
    "print(\"Single element:\", insertion_sort(single_element.copy()))\n",
    "\n",
    "# Already sorted array\n",
    "sorted_test = [1, 2, 3, 4, 5]\n",
    "print(\"Already sorted:\", insertion_sort(sorted_test.copy()))\n",
    "\n",
    "# Reverse sorted array\n",
    "reverse_sorted = [5, 4, 3, 2, 1]\n",
    "print(\"Reverse sorted:\", insertion_sort(reverse_sorted.copy()))\n",
    "\n",
    "# Array with duplicates\n",
    "with_duplicates = [3, 1, 4, 1, 5, 9, 2, 6, 5]\n",
    "print(\"With duplicates:\", insertion_sort(with_duplicates.copy()))"
   ]
  }
 ],
 "metadata": {
  "kernelspec": {
   "display_name": "base",
   "language": "python",
   "name": "python3"
  },
  "language_info": {
   "codemirror_mode": {
    "name": "ipython",
    "version": 3
   },
   "file_extension": ".py",
   "mimetype": "text/x-python",
   "name": "python",
   "nbconvert_exporter": "python",
   "pygments_lexer": "ipython3",
   "version": "3.12.2"
  }
 },
 "nbformat": 4,
 "nbformat_minor": 5
}
